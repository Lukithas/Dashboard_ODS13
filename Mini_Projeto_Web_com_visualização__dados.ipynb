{
  "nbformat": 4,
  "nbformat_minor": 0,
  "metadata": {
    "colab": {
      "provenance": [],
      "mount_file_id": "1RdmAV018l6czScMmQUDcDbK-JLMCOXp-",
      "authorship_tag": "ABX9TyOg4MvwpBom9RWhJIQpwuAH",
      "include_colab_link": true
    },
    "kernelspec": {
      "name": "python3",
      "display_name": "Python 3"
    },
    "language_info": {
      "name": "python"
    }
  },
  "cells": [
    {
      "cell_type": "markdown",
      "metadata": {
        "id": "view-in-github",
        "colab_type": "text"
      },
      "source": [
        "<a href=\"https://colab.research.google.com/github/Lukithas/Dashboard_ODS13/blob/main/Mini_Projeto_Web_com_visualiza%C3%A7%C3%A3o__dados.ipynb\" target=\"_parent\"><img src=\"https://colab.research.google.com/assets/colab-badge.svg\" alt=\"Open In Colab\"/></a>"
      ]
    },
    {
      "cell_type": "code",
      "source": [
        "pip install -q streamlit"
      ],
      "metadata": {
        "id": "0pAV1LfpFdSu",
        "colab": {
          "base_uri": "https://localhost:8080/"
        },
        "outputId": "d1d34cde-97b7-4f8c-ebed-1bae77ae60de"
      },
      "execution_count": 1,
      "outputs": [
        {
          "output_type": "stream",
          "name": "stdout",
          "text": [
            "\u001b[2K   \u001b[90m━━━━━━━━━━━━━━━━━━━━━━━━━━━━━━━━━━━━━━━━\u001b[0m \u001b[32m10.1/10.1 MB\u001b[0m \u001b[31m58.3 MB/s\u001b[0m eta \u001b[36m0:00:00\u001b[0m\n",
            "\u001b[2K   \u001b[90m━━━━━━━━━━━━━━━━━━━━━━━━━━━━━━━━━━━━━━━━\u001b[0m \u001b[32m6.9/6.9 MB\u001b[0m \u001b[31m71.8 MB/s\u001b[0m eta \u001b[36m0:00:00\u001b[0m\n",
            "\u001b[?25h"
          ]
        }
      ]
    },
    {
      "cell_type": "code",
      "source": [
        "# CÉLULA 1: PREPARAÇÃO DO AMBIENTE\n",
        "\n",
        "\n",
        "!pip install -q streamlit pyngrok\n",
        "\n",
        "# 1. Importa a biblioteca do Google Drive e monta a pasta\n",
        "from google.colab import drive\n",
        "print(\"Por favor, autorize o acesso à sua conta Google Drive.\")\n",
        "drive.mount('/content/drive')\n",
        "print(\"✅ Google Drive montado com sucesso em /content/drive\")"
      ],
      "metadata": {
        "colab": {
          "base_uri": "https://localhost:8080/"
        },
        "id": "NWkxPVD-XZR_",
        "outputId": "eeebbdc4-141a-4004-8548-3f983af1e9cf"
      },
      "execution_count": 2,
      "outputs": [
        {
          "output_type": "stream",
          "name": "stdout",
          "text": [
            "Por favor, autorize o acesso à sua conta Google Drive.\n",
            "Drive already mounted at /content/drive; to attempt to forcibly remount, call drive.mount(\"/content/drive\", force_remount=True).\n",
            "✅ Google Drive montado com sucesso em /content/drive\n"
          ]
        }
      ]
    },
    {
      "cell_type": "code",
      "source": [
        "# CÉLULA 2: CRIAÇÃO DO ARQUIVO DA APLICAÇÃO\n",
        "\n",
        "%%writefile app.py\n",
        "\n",
        "# --- Início do código da aplicação Streamlit ---\n",
        "import streamlit as st\n",
        "import pandas as pd\n",
        "import numpy as np\n",
        "\n",
        "# --- CONFIGURAÇÃO DA PÁGINA ---\n",
        "st.set_page_config(\n",
        "    page_title=\"EDA ODS 13 - Emissões no Brasil\",\n",
        "    page_icon=\"🌍\",\n",
        "    layout=\"wide\"\n",
        ")\n",
        "\n",
        "# --- FUNÇÃO DE CARREGAMENTO E CACHE DOS DADOS ---\n",
        "@st.cache_data\n",
        "def carregar_dados(caminho_arquivo, nome_aba):\n",
        "    try:\n",
        "        df_wide = pd.read_excel(caminho_arquivo, sheet_name=nome_aba)\n",
        "        colunas_id = [\n",
        "            'Emissão/Remoção/Bunker', 'Gás', 'Setor de emissão', 'Categoria emissora',\n",
        "            'Sub-categoria emissora', 'Produto ou sistema', 'Detalhamento', 'Recorte',\n",
        "            'Atividade geral', 'Estado', 'Bioma'\n",
        "        ]\n",
        "        colunas_valor = [col for col in df_wide.columns if isinstance(col, int)]\n",
        "        df_long = pd.melt(\n",
        "            df_wide, id_vars=colunas_id, value_vars=colunas_valor,\n",
        "            var_name='Ano', value_name='Emissao_Tons'\n",
        "        )\n",
        "        df_long['Emissao_Tons'].fillna(0, inplace=True)\n",
        "        df_long['Ano'] = pd.to_numeric(df_long['Ano'])\n",
        "        df_emissoes = df_long[df_long['Emissão/Remoção/Bunker'] == 'Emissão'].copy()\n",
        "        return df_emissoes\n",
        "    except FileNotFoundError:\n",
        "        st.error(f\"ERRO: Arquivo não encontrado em '{caminho_arquivo}'. O Google Drive está montado corretamente?\")\n",
        "        return None\n",
        "    except KeyError:\n",
        "        st.error(f\"ERRO: A aba '{nome_aba}' não foi encontrada. Verifique o nome.\")\n",
        "        return None\n",
        "    except Exception as e:\n",
        "        st.error(f\"Ocorreu um erro inesperado: {e}\")\n",
        "        return None\n",
        "\n",
        "# --- INTERFACE PRINCIPAL DA APLICAÇÃO ---\n",
        "st.title(\"🌍 Análise Exploratória de Emissões de GEE no Brasil\")\n",
        "st.markdown(\"Dashboard interativo para explorar dados da ODS 13 no contexto da COP30.\")\n",
        "\n",
        "# O script agora simplesmente assume que o caminho existe\n",
        "file_path = '/content/drive/My Drive/Programacao_WEB/Dados-nacionais-v12.xlsx'\n",
        "nome_da_aba = 'Dados'\n",
        "df_emissoes = carregar_dados(file_path, nome_da_aba)\n",
        "\n",
        "if df_emissoes is not None:\n",
        "    st.sidebar.header(\"Filtros Interativos\")\n",
        "    ano_inicio, ano_fim = st.sidebar.slider(\"Selecione o Período:\", min_value=int(df_emissoes['Ano'].min()), max_value=int(df_emissoes['Ano'].max()), value=(int(df_emissoes['Ano'].min()), int(df_emissoes['Ano'].max())))\n",
        "    setores_disponiveis = df_emissoes['Setor de emissão'].unique()\n",
        "    setor_selecionado = st.sidebar.selectbox(\"Selecione um Setor:\", options=['Todos os Setores'] + list(setores_disponiveis))\n",
        "    estados_disponiveis = sorted(df_emissoes[~df_emissoes['Estado'].isin(['Não se aplica', 'BR'])]['Estado'].unique())\n",
        "    estado_selecionado = st.sidebar.selectbox(\"Selecione um Estado:\", options=['Brasil (Total)'] + estados_disponiveis)\n",
        "\n",
        "    dados_filtrados = df_emissoes[(df_emissoes['Ano'] >= ano_inicio) & (df_emissoes['Ano'] <= ano_fim)]\n",
        "\n",
        "    titulo_analise = f\"Análise para: {estado_selecionado}\"\n",
        "    if setor_selecionado != 'Todos os Setores':\n",
        "        dados_filtrados = dados_filtrados[dados_filtrados['Setor de emissão'] == setor_selecionado]\n",
        "        titulo_analise += f\" | Setor: {setor_selecionado}\"\n",
        "    else:\n",
        "        titulo_analise += \" | Todos os Setores\"\n",
        "    if estado_selecionado != 'Brasil (Total)':\n",
        "        dados_filtrados = dados_filtrados[dados_filtrados['Estado'] == estado_selecionado]\n",
        "\n",
        "    st.header(titulo_analise)\n",
        "    st.subheader(\"Evolução das Emissões no Período Selecionado\")\n",
        "    emissoes_por_ano = dados_filtrados.groupby('Ano')['Emissao_Tons'].sum()\n",
        "    st.line_chart(emissoes_por_ano)\n",
        "\n",
        "    if setor_selecionado == 'Todos os Setores':\n",
        "        st.subheader(\"Contribuição dos Setores para as Emissões Totais\")\n",
        "        emissoes_setor_ano = dados_filtrados.groupby(['Ano', 'Setor de emissão'])['Emissao_Tons'].sum().unstack(fill_value=0)\n",
        "        st.area_chart(emissoes_setor_ano)\n",
        "\n",
        "    if st.checkbox(\"Mostrar dados brutos filtrados\"):\n",
        "        st.dataframe(dados_filtrados)\n",
        "else:\n",
        "    st.warning(\"A aplicação não pode continuar porque os dados não foram carregados. Verifique os erros acima.\")"
      ],
      "metadata": {
        "colab": {
          "base_uri": "https://localhost:8080/"
        },
        "id": "cFebz9_oXQse",
        "outputId": "b5507624-1563-49f1-d63e-8092e77945f2"
      },
      "execution_count": 3,
      "outputs": [
        {
          "output_type": "stream",
          "name": "stdout",
          "text": [
            "Writing app.py\n"
          ]
        }
      ]
    },
    {
      "cell_type": "code",
      "source": [
        "# CÉLULA 3: EXECUÇÃO DA APLICAÇÃO\n",
        "\n",
        "from pyngrok import ngrok\n",
        "import time\n",
        "import subprocess\n",
        "\n",
        "\n",
        "AUTHTOKEN = \"33yXJYjXpVQYgBUYGKBUT5tM0xP_srbwA2u1X2apw44cXLZb\"\n",
        "ngrok.set_auth_token(AUTHTOKEN)\n",
        "\n",
        "# Mata qualquer processo ngrok ou streamlit que possa estar rodando\n",
        "ngrok.kill()\n",
        "# O comando pkill força o encerramento de qualquer processo streamlit anterior\n",
        "!pkill streamlit\n",
        "\n",
        "# Inicia o streamlit em background\n",
        "print(\"🚀 Iniciando o servidor Streamlit em segundo plano...\")\n",
        "process = subprocess.Popen(['streamlit', 'run', 'app.py'])\n",
        "\n",
        "# Aumentamos o tempo de espera para garantir que o servidor esteja totalmente pronto\n",
        "print(\"⏳ Aguardando 15 segundos para a inicialização completa do servidor...\")\n",
        "time.sleep(15)\n",
        "\n",
        "# Verifica se o processo do Streamlit ainda está em execução\n",
        "if process.poll() is None:\n",
        "    print(\"✅ Servidor Streamlit iniciado com sucesso.\")\n",
        "    # Tenta criar o túnel e imprimir a URL\n",
        "    print(\"🔗 Criando o túnel com o ngrok...\")\n",
        "    try:\n",
        "        public_url = ngrok.connect(8501)\n",
        "        print(\"------------------------------------------------------------------\")\n",
        "        print(f\"🎉 Aplicação pronta! Acesse pelo link: {public_url}\")\n",
        "        print(\"------------------------------------------------------------------\")\n",
        "    except Exception as e:\n",
        "        print(f\"❌ Falha ao criar o túnel do ngrok: {e}\")\n",
        "else:\n",
        "    print(\"❌ ERRO: O servidor Streamlit falhou ao iniciar.\")\n",
        "    print(\"Isso geralmente acontece por um erro no arquivo 'app.py' ou problema de permissão no Google Drive.\")\n",
        "    print(\"Verifique se você autorizou o acesso ao Drive e se o caminho/nome da aba no arquivo Excel está correto.\")"
      ],
      "metadata": {
        "colab": {
          "base_uri": "https://localhost:8080/"
        },
        "id": "Kqn0Ewm4jwXx",
        "outputId": "f9e07edf-aacb-47bf-c95b-bff94f8533c7"
      },
      "execution_count": 5,
      "outputs": [
        {
          "output_type": "stream",
          "name": "stdout",
          "text": [
            "🚀 Iniciando o servidor Streamlit em segundo plano...\n",
            "⏳ Aguardando 15 segundos para a inicialização completa do servidor...\n",
            "✅ Servidor Streamlit iniciado com sucesso.\n",
            "🔗 Criando o túnel com o ngrok...\n",
            "------------------------------------------------------------------\n",
            "🎉 Aplicação pronta! Acesse pelo link: NgrokTunnel: \"https://reynaldo-preambitious-tierra.ngrok-free.dev\" -> \"http://localhost:8501\"\n",
            "------------------------------------------------------------------\n"
          ]
        }
      ]
    },
    {
      "cell_type": "code",
      "metadata": {
        "colab": {
          "base_uri": "https://localhost:8080/"
        },
        "id": "7085d04c",
        "outputId": "33d185d0-c4d1-453f-d7e6-f5958d287f13"
      },
      "source": [
        "print(dados_emissoes.columns.tolist())"
      ],
      "execution_count": null,
      "outputs": [
        {
          "output_type": "stream",
          "name": "stdout",
          "text": [
            "['Emissão/Remoção/Bunker', 'Gás', 'Setor de emissão', 'Categoria emissora', 'Sub-categoria emissora', 'Produto ou sistema', 'Detalhamento', 'Recorte', 'Atividade geral', 'Estado', 'Bioma', 1970, 1971, 1972, 1973, 1974, 1975, 1976, 1977, 1978, 1979, 1980, 1981, 1982, 1983, 1984, 1985, 1986, 1987, 1988, 1989, 1990, 1991, 1992, 1993, 1994, 1995, 1996, 1997, 1998, 1999, 2000, 2001, 2002, 2003, 2004, 2005, 2006, 2007, 2008, 2009, 2010, 2011, 2012, 2013, 2014, 2015, 2016, 2017, 2018, 2019, 2020, 2021, 2022, 2023]\n"
          ]
        }
      ]
    },
    {
      "cell_type": "code",
      "source": [],
      "metadata": {
        "id": "95AbJaVWsytN"
      },
      "execution_count": null,
      "outputs": []
    }
  ]
}